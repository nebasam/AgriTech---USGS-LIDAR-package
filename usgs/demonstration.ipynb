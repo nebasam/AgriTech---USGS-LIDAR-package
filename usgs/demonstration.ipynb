{
 "cells": [
  {
   "cell_type": "code",
   "execution_count": 2,
   "metadata": {},
   "outputs": [],
   "source": [
    "import pdal\n",
    "import json\n",
    "import geopandas as gpd\n",
    "from shapely.geometry import Polygon, Point\n",
    "import sys\n",
    "from logger import Logger\n",
    "from file_read import FileHandler"
   ]
  },
  {
   "cell_type": "code",
   "execution_count": 5,
   "metadata": {},
   "outputs": [],
   "source": [
    "logger = Logger()\n",
    "logger = logger.get_logger('FetchData')"
   ]
  },
  {
   "cell_type": "code",
   "execution_count": 11,
   "metadata": {},
   "outputs": [],
   "source": [
    "class FetchData:\n",
    "\n",
    "    def __init__(self, public_data_url = \"https://s3-us-west-2.amazonaws.com/usgs-lidar-public/\", json_path=\"./get_data.json\") -> None:\n",
    "        try:\n",
    "            self.logger = Logger().get_logger(__name__)\n",
    "            self.file_handler = FileHandler()\n",
    "            self.pipeline_json = self.file_handler.read_json(json_path)\n",
    "            self.public_data_url = public_data_url\n",
    "            self.input_epsg = 3857\n",
    "            \n",
    "\n",
    "            logger.info('Successfully Instantiated FetchData Class Object')\n",
    "        except Exception as e:\n",
    "            logger.exception('Failed to Instantiate FetchData Class Object')\n",
    "            sys.exit(1)\n",
    "    def get_polygon_boundaries(self, polygon: Polygon):\n",
    "        polygon_df = gpd.GeoDataFrame([polygon], columns=['geometry'])\n",
    "\n",
    "        polygon_df.set_crs(epsg=self.output_epsg, inplace=True)\n",
    "        polygon_df['geometry'] = polygon_df['geometry'].to_crs(epsg=self.input_epsg)\n",
    "        minx, miny, maxx, maxy = polygon_df['geometry'][0].bounds\n",
    "\n",
    "        polygon_input = 'POLYGON(('\n",
    "        xcords, ycords = polygon_df['geometry'][0].exterior.coords.xy\n",
    "        for x, y in zip(list(xcords), list(ycords)):\n",
    "            polygon_input += f'{x} {y}, '\n",
    "        polygon_input = polygon_input[:-2]\n",
    "        polygon_input += '))'\n",
    "\n",
    "        print(polygon_input)\n",
    "        print(f\"({[minx, maxx]},{[miny,maxy]})\")\n",
    "\n",
    "        return f\"({[minx, maxx]},{[miny,maxy]})\", polygon_input\n",
    "\n",
    "    def get_pipeline(self, region: str, polygon: Polygon, output_filename: str = \"temp\"):\n",
    "        boundaries, polygon_input = self.get_polygon_boundaries(polygon)\n",
    "\n",
    "        full_dataset_path = f\"{self.public_data_url}{region}/ept.json\"\n",
    "\n",
    "        self.pipeline_json['pipeline'][0]['filename'] = full_dataset_path\n",
    "        self.pipeline_json['pipeline'][0]['bounds'] = boundaries\n",
    "        self.pipeline_json['pipeline'][1]['polygon'] = polygon_input\n",
    "        self.pipeline_json['pipeline'][3]['out_srs'] = f'EPSG:{self.output_epsg}'\n",
    "        self.pipeline_json['pipeline'][4]['filename'] = \"../data/laz/\" + output_filename + \".laz\"\n",
    "        self.pipeline_json['pipeline'][5]['filename'] = \"../data/tif/\" + output_filename + \".tif\"\n",
    "\n",
    "        pipeline = pdal.Pipeline(json.dumps(self.pipeline_json))\n",
    "\n",
    "        return pipeline\n",
    "\n",
    "    def run_pipeline(self, polygon: Polygon, epsg, region: str = \"IA_FullState\"):\n",
    "        self.output_epsg = epsg\n",
    "        pipeline = self.get_pipeline(region, polygon)\n",
    "\n",
    "        try:\n",
    "            pipeline.execute()\n",
    "            self.logger.info(f'Pipeline executed successfully.')\n",
    "            return pipeline\n",
    "        except RuntimeError as e:\n",
    "            self.logger.exception('Pipeline execution failed')\n",
    "            print(e)\n",
    "\n",
    "    def make_geo_df(self, arr):\n",
    "        geometry_points = [Point(x, y) for x, y in zip(arr[\"X\"], arr[\"Y\"])]\n",
    "        elevetions = arr[\"Z\"]\n",
    "        df = gpd.GeoDataFrame(columns=[\"elevation\", \"geometry\"])\n",
    "        df['elevation'] = elevetions\n",
    "        df['geometry'] = geometry_points\n",
    "        df = df.set_geometry(\"geometry\")\n",
    "        df.set_crs(self.output_epsg, inplace=True)\n",
    "        return df\n",
    "\n",
    "    def get_data(self, polygon: Polygon, epsg):\n",
    "        pipeline = self.run_pipeline(polygon, epsg)\n",
    "        arr = pipeline.arrays[0]\n",
    "        return self.make_geo_df(arr)\n",
    "\n"
   ]
  },
  {
   "cell_type": "code",
   "execution_count": 12,
   "metadata": {},
   "outputs": [
    {
     "name": "stdout",
     "output_type": "stream",
     "text": [
      "POLYGON((-10436887.43333523 5148706.389047224, -10436887.43333523 5148721.349314567, -10436876.301386151 5148721.349314567, -10436876.301386151 5148706.389047224, -10436887.43333523 5148706.389047224))\n",
      "([-10436887.43333523, -10436876.301386151],[5148706.389047224, 5148721.349314567])\n"
     ]
    },
    {
     "name": "stderr",
     "output_type": "stream",
     "text": [
      "20-08-2021 23:20:38 - [ERROR] -  __main__ - (<ipython-input-11-51064d695316>).run_pipeline(line 60) - Pipeline execution failed\n",
      "Traceback (most recent call last):\n",
      "  File \"<ipython-input-11-51064d695316>\", line 56, in run_pipeline\n",
      "    pipeline.execute()\n",
      "  File \"/home/neba/.conda/envs/data/lib/python3.9/site-packages/pdal/pipeline.py\", line 40, in execute\n",
      "    return self.p.execute()\n",
      "  File \"libpdalpython.pyx\", line 180, in pdal.libpdalpython.PyPipeline.execute\n",
      "RuntimeError: readers.ept: Error reading tile: Could not read from s3-us-west-2.amazonaws.com/usgs-lidar-public/IA_FullState/ept-data/4-7-7-8.laz\n",
      "20-08-2021 23:20:38 - [ERROR] -  __main__ - (<ipython-input-11-51064d695316>).run_pipeline(line 60) - Pipeline execution failed\n",
      "Traceback (most recent call last):\n",
      "  File \"<ipython-input-11-51064d695316>\", line 56, in run_pipeline\n",
      "    pipeline.execute()\n",
      "  File \"/home/neba/.conda/envs/data/lib/python3.9/site-packages/pdal/pipeline.py\", line 40, in execute\n",
      "    return self.p.execute()\n",
      "  File \"libpdalpython.pyx\", line 180, in pdal.libpdalpython.PyPipeline.execute\n",
      "RuntimeError: readers.ept: Error reading tile: Could not read from s3-us-west-2.amazonaws.com/usgs-lidar-public/IA_FullState/ept-data/4-7-7-8.laz\n"
     ]
    },
    {
     "name": "stdout",
     "output_type": "stream",
     "text": [
      "readers.ept: Error reading tile: Could not read from s3-us-west-2.amazonaws.com/usgs-lidar-public/IA_FullState/ept-data/4-7-7-8.laz\n"
     ]
    },
    {
     "ename": "AttributeError",
     "evalue": "'NoneType' object has no attribute 'arrays'",
     "output_type": "error",
     "traceback": [
      "\u001b[0;31m---------------------------------------------------------------------------\u001b[0m",
      "\u001b[0;31mAttributeError\u001b[0m                            Traceback (most recent call last)",
      "\u001b[0;32m<ipython-input-12-4bc75b3c1cf7>\u001b[0m in \u001b[0;36m<module>\u001b[0;34m\u001b[0m\n\u001b[1;32m      2\u001b[0m \u001b[0mpolygon\u001b[0m \u001b[0;34m=\u001b[0m \u001b[0mPolygon\u001b[0m\u001b[0;34m(\u001b[0m\u001b[0;34m(\u001b[0m\u001b[0;34m(\u001b[0m\u001b[0mMINX\u001b[0m\u001b[0;34m,\u001b[0m \u001b[0mMINY\u001b[0m\u001b[0;34m)\u001b[0m\u001b[0;34m,\u001b[0m \u001b[0;34m(\u001b[0m\u001b[0mMINX\u001b[0m\u001b[0;34m,\u001b[0m \u001b[0mMAXY\u001b[0m\u001b[0;34m)\u001b[0m\u001b[0;34m,\u001b[0m \u001b[0;34m(\u001b[0m\u001b[0mMAXX\u001b[0m\u001b[0;34m,\u001b[0m \u001b[0mMAXY\u001b[0m\u001b[0;34m)\u001b[0m\u001b[0;34m,\u001b[0m \u001b[0;34m(\u001b[0m\u001b[0mMAXX\u001b[0m\u001b[0;34m,\u001b[0m \u001b[0mMINY\u001b[0m\u001b[0;34m)\u001b[0m\u001b[0;34m,\u001b[0m \u001b[0;34m(\u001b[0m\u001b[0mMINX\u001b[0m\u001b[0;34m,\u001b[0m \u001b[0mMINY\u001b[0m\u001b[0;34m)\u001b[0m\u001b[0;34m)\u001b[0m\u001b[0;34m)\u001b[0m\u001b[0;34m\u001b[0m\u001b[0;34m\u001b[0m\u001b[0m\n\u001b[1;32m      3\u001b[0m \u001b[0mdata_fetcher\u001b[0m \u001b[0;34m=\u001b[0m \u001b[0mFetchData\u001b[0m\u001b[0;34m(\u001b[0m\u001b[0;34m)\u001b[0m\u001b[0;34m\u001b[0m\u001b[0;34m\u001b[0m\u001b[0m\n\u001b[0;32m----> 4\u001b[0;31m \u001b[0mprint\u001b[0m\u001b[0;34m(\u001b[0m\u001b[0mdata_fetcher\u001b[0m\u001b[0;34m.\u001b[0m\u001b[0mget_data\u001b[0m\u001b[0;34m(\u001b[0m\u001b[0mpolygon\u001b[0m\u001b[0;34m,\u001b[0m \u001b[0mepsg\u001b[0m\u001b[0;34m=\u001b[0m\u001b[0;36m4326\u001b[0m\u001b[0;34m)\u001b[0m\u001b[0;34m)\u001b[0m\u001b[0;34m\u001b[0m\u001b[0;34m\u001b[0m\u001b[0m\n\u001b[0m",
      "\u001b[0;32m<ipython-input-11-51064d695316>\u001b[0m in \u001b[0;36mget_data\u001b[0;34m(self, polygon, epsg)\u001b[0m\n\u001b[1;32m     73\u001b[0m     \u001b[0;32mdef\u001b[0m \u001b[0mget_data\u001b[0m\u001b[0;34m(\u001b[0m\u001b[0mself\u001b[0m\u001b[0;34m,\u001b[0m \u001b[0mpolygon\u001b[0m\u001b[0;34m:\u001b[0m \u001b[0mPolygon\u001b[0m\u001b[0;34m,\u001b[0m \u001b[0mepsg\u001b[0m\u001b[0;34m)\u001b[0m\u001b[0;34m:\u001b[0m\u001b[0;34m\u001b[0m\u001b[0;34m\u001b[0m\u001b[0m\n\u001b[1;32m     74\u001b[0m         \u001b[0mpipeline\u001b[0m \u001b[0;34m=\u001b[0m \u001b[0mself\u001b[0m\u001b[0;34m.\u001b[0m\u001b[0mrun_pipeline\u001b[0m\u001b[0;34m(\u001b[0m\u001b[0mpolygon\u001b[0m\u001b[0;34m,\u001b[0m \u001b[0mepsg\u001b[0m\u001b[0;34m)\u001b[0m\u001b[0;34m\u001b[0m\u001b[0;34m\u001b[0m\u001b[0m\n\u001b[0;32m---> 75\u001b[0;31m         \u001b[0marr\u001b[0m \u001b[0;34m=\u001b[0m \u001b[0mpipeline\u001b[0m\u001b[0;34m.\u001b[0m\u001b[0marrays\u001b[0m\u001b[0;34m[\u001b[0m\u001b[0;36m0\u001b[0m\u001b[0;34m]\u001b[0m\u001b[0;34m\u001b[0m\u001b[0;34m\u001b[0m\u001b[0m\n\u001b[0m\u001b[1;32m     76\u001b[0m         \u001b[0;32mreturn\u001b[0m \u001b[0mself\u001b[0m\u001b[0;34m.\u001b[0m\u001b[0mmake_geo_df\u001b[0m\u001b[0;34m(\u001b[0m\u001b[0marr\u001b[0m\u001b[0;34m)\u001b[0m\u001b[0;34m\u001b[0m\u001b[0;34m\u001b[0m\u001b[0m\n\u001b[1;32m     77\u001b[0m \u001b[0;34m\u001b[0m\u001b[0m\n",
      "\u001b[0;31mAttributeError\u001b[0m: 'NoneType' object has no attribute 'arrays'"
     ]
    }
   ],
   "source": [
    "\n",
    "MINX, MINY, MAXX, MAXY = [-93.756155, 41.918015, -93.756055, 41.918115]\n",
    "polygon = Polygon(((MINX, MINY), (MINX, MAXY), (MAXX, MAXY), (MAXX, MINY), (MINX, MINY)))\n",
    "data_fetcher = FetchData()\n",
    "print(data_fetcher.get_data(polygon, epsg=4326))"
   ]
  }
 ],
 "metadata": {
  "interpreter": {
   "hash": "da9c0d822288e583a4c02a8d0a87b98728bc2a6472b827a3ba88bbc32f5a129c"
  },
  "kernelspec": {
   "display_name": "Python 3.9.6 64-bit ('data': conda)",
   "name": "python3"
  },
  "language_info": {
   "codemirror_mode": {
    "name": "ipython",
    "version": 3
   },
   "file_extension": ".py",
   "mimetype": "text/x-python",
   "name": "python",
   "nbconvert_exporter": "python",
   "pygments_lexer": "ipython3",
   "version": "3.9.6"
  },
  "orig_nbformat": 4
 },
 "nbformat": 4,
 "nbformat_minor": 2
}